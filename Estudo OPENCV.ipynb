{
 "cells": [
  {
   "cell_type": "code",
   "execution_count": 1,
   "metadata": {},
   "outputs": [],
   "source": [
    "import numpy as np\n",
    "import cv2"
   ]
  },
  {
   "cell_type": "code",
   "execution_count": 4,
   "metadata": {
    "scrolled": true
   },
   "outputs": [
    {
     "name": "stdout",
     "output_type": "stream",
     "text": [
      "[ 44 204 252]\n"
     ]
    }
   ],
   "source": [
    "img = cv2.imread('marge_face.jpg',cv2.IMREAD_COLOR)\n",
    "px = img[22,33]\n",
    "print(px)"
   ]
  },
  {
   "cell_type": "code",
   "execution_count": 6,
   "metadata": {},
   "outputs": [],
   "source": [
    "#THRESHOLDING\n",
    "img = cv2.imread('simpson.jpg ')\n",
    "retval,threshold = cv2.threshold(img,12,255,cv2.THRESH_BINARY)\n",
    "grayscaled = cv2.cvtColor(img,cv2.COLOR_BGR2GRAY)\n",
    "retval2,threshold2 = cv2.threshold(grayscaled,12,255,cv2.THRESH_BINARY)\n",
    "gaus = cv2.adaptiveThreshold(grayscaled,255,cv2.ADAPTIVE_THRESH_GAUSSIAN_C,cv2.THRESH_BINARY,115,1)\n",
    "retval2,otsu = cv2.threshold(grayscaled,12,255,cv2.THRESH_BINARY+cv2.THRESH_OTSU)\n",
    "cv2.imshow('original',img)\n",
    "cv2.imshow('threshold',threshold)\n",
    "cv2.imshow('threshold2 ',threshold2) \n",
    "cv2.imshow('gaus ',gaus)\n",
    "cv2.imshow('otsu',otsu)\n",
    "cv2.waitKey(0)\n",
    "cv2.destroyAllWindows() "
   ]
  },
  {
   "cell_type": "code",
   "execution_count": null,
   "metadata": {},
   "outputs": [],
   "source": [
    "#Color filtering\n",
    "cap = cv2.VideoCapture(1)\n",
    "while True:\n",
    "    _,frame = cap.read()\n",
    "    hsv = cv2.cvtColor(frame,cv2.COLOR_BGR2HSV)\n",
    "    \n",
    "    lower_red=np.array([0,0,0])\n",
    "    upper_red=np.array([255,255,255])\n",
    "    \n",
    "    mask = cv2.inRange(hsv,lower_red,epper_red)\n",
    "    res = cv2.bitwise_and(frame,frame,mask=mask)\n",
    "    \n",
    "    cv2.imshow('frame',frame)\n",
    "    \n",
    "    k = cv2.waitKey(5) & 0xFF\n",
    "    if k==27:\n",
    "        break\n",
    "cv2.destroyAllWindows()\n",
    "cap.release()"
   ]
  },
  {
   "cell_type": "code",
   "execution_count": null,
   "metadata": {},
   "outputs": [],
   "source": [
    "#Template Matching\n",
    "#a escolha do loc faço para os valores maiores de array pois é o ponto \"mais claro\" na tela gerada.\n",
    "\n",
    "img = cv2.imread('simpson.jpg')\n",
    "gray_img = cv2.cvtColor(img,cv2.COLOR_BGR2GRAY)\n",
    "template = cv2.imread('homer_face.jpg',0)\n",
    "w, h = template.shape[::-1]\n",
    "\n",
    "result = cv2.matchTemplate(gray_img,template,cv2.TM_CCOEFF_NORMED)\n",
    "loc = np.where(result >= 0.382)\n",
    "print(loc)\n",
    "\n",
    "for pt in zip(*loc[::-1]):\n",
    "    cv2.rectangle(img, pt , (pt[0] + w, pt[1] + h),(0,255,0),3)\n",
    "\n",
    "\n",
    "cv2.imshow('img',img)\n",
    "cv2.waitKey(0)\n",
    "cv2.destroyAllWindows()\n",
    "\n"
   ]
  },
  {
   "cell_type": "code",
   "execution_count": null,
   "metadata": {},
   "outputs": [],
   "source": [
    "#TEMPLATE MATCHING (HOMER)\n",
    "img2 = cv2.imread('simpson.jpg')\n",
    "gray_img2 = cv2.cvtColor(img2,cv2.COLOR_BGR2GRAY)\n",
    "template = cv2.imread('homer_face.jpg',cv2.IMREAD_GRAYSCALE)\n",
    "w, h = template.shape[::-1]\n",
    "\n",
    "result = cv2.matchTemplate(gray_img2,template,cv2.TM_CCOEFF_NORMED)\n",
    "loc2 = np.where(result >= 0.880)\n",
    "print(result)\n",
    "\n",
    "for pt in zip(*loc2[::-1]):\n",
    "    cv2.rectangle(img2, pt , (pt[0] + w, pt[1] + h),(0,255,0),3)\n",
    "\n",
    "cv2.imshow('img2',img2)\n",
    "cv2.waitKey(0)\n",
    "cv2.destroyAllWindows()\n"
   ]
  },
  {
   "cell_type": "code",
   "execution_count": 5,
   "metadata": {},
   "outputs": [
    {
     "name": "stdout",
     "output_type": "stream",
     "text": [
      "[[ 0.01906359  0.01863512  0.0182881  ...  0.01231532  0.01441966\n",
      "   0.01651286]\n",
      " [ 0.01880719  0.01829381  0.01793262 ...  0.01379562  0.01595607\n",
      "   0.01807947]\n",
      " [ 0.01832782  0.01783759  0.01755031 ...  0.01502814  0.01721059\n",
      "   0.01932106]\n",
      " ...\n",
      " [ 0.1596363   0.16121258  0.1632843  ... -0.02431785 -0.02317296\n",
      "  -0.02118247]\n",
      " [ 0.1597211   0.16160215  0.16399321 ... -0.02479832 -0.02355603\n",
      "  -0.02158449]\n",
      " [ 0.1598073   0.16199276  0.16457826 ... -0.02526844 -0.02379487\n",
      "  -0.02178247]]\n"
     ]
    }
   ],
   "source": [
    "#cv2.rectangle(img, (x1, y1), (x2, y2), (255,0,0), 2)\n",
    "#TEMPLATE MATCHING (MARGE)\n",
    "import numpy as np\n",
    "import cv2\n",
    "img2 = cv2.imread('simpson.jpg')\n",
    "gray_img2 = cv2.cvtColor(img2,cv2.COLOR_BGR2GRAY)\n",
    "template = cv2.imread('marge_face.jpg',0)\n",
    "w, h = template.shape[::-1]\n",
    "\n",
    "result = cv2.matchTemplate(gray_img2,template,cv2.TM_CCOEFF_NORMED)\n",
    "threshold = 0.382\n",
    "loc2 = np.where(result >= threshold)\n",
    "print(result)\n",
    "\n",
    "for pt in zip(*loc2[::-1]):\n",
    "    cv2.rectangle(img2, pt , (pt[0] + w, pt[1] + h),(0,0,255),3)\n",
    "\n",
    "cv2.imshow('img2',img2)\n",
    "cv2.waitKey(0)\n",
    "cv2.destroyAllWindows()\n"
   ]
  },
  {
   "cell_type": "code",
   "execution_count": null,
   "metadata": {},
   "outputs": [],
   "source": []
  }
 ],
 "metadata": {
  "kernelspec": {
   "display_name": "Python 3",
   "language": "python",
   "name": "python3"
  },
  "language_info": {
   "codemirror_mode": {
    "name": "ipython",
    "version": 3
   },
   "file_extension": ".py",
   "mimetype": "text/x-python",
   "name": "python",
   "nbconvert_exporter": "python",
   "pygments_lexer": "ipython3",
   "version": "3.7.1"
  }
 },
 "nbformat": 4,
 "nbformat_minor": 2
}
