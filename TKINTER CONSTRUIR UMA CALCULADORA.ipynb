{
 "cells": [
  {
   "cell_type": "code",
   "execution_count": 1,
   "metadata": {},
   "outputs": [],
   "source": [
    "import tkinter as tk"
   ]
  },
  {
   "cell_type": "code",
   "execution_count": 2,
   "metadata": {},
   "outputs": [
    {
     "ename": "NameError",
     "evalue": "name 'Label' is not defined",
     "output_type": "error",
     "traceback": [
      "\u001b[1;31m---------------------------------------------------------------------------\u001b[0m",
      "\u001b[1;31mNameError\u001b[0m                                 Traceback (most recent call last)",
      "\u001b[1;32m<ipython-input-2-e8dba324ae6c>\u001b[0m in \u001b[0;36m<module>\u001b[1;34m\u001b[0m\n\u001b[0;32m      1\u001b[0m \u001b[0mjanela\u001b[0m \u001b[1;33m=\u001b[0m \u001b[0mtk\u001b[0m\u001b[1;33m.\u001b[0m\u001b[0mTk\u001b[0m\u001b[1;33m(\u001b[0m\u001b[1;33m)\u001b[0m\u001b[1;33m\u001b[0m\u001b[0m\n\u001b[1;32m----> 2\u001b[1;33m \u001b[0mLabel\u001b[0m\u001b[1;33m(\u001b[0m\u001b[0mjanela\u001b[0m\u001b[1;33m,\u001b[0m\u001b[0mtext\u001b[0m\u001b[1;33m=\u001b[0m\u001b[1;34m'Fabricio'\u001b[0m\u001b[1;33m)\u001b[0m\u001b[1;33m.\u001b[0m\u001b[0mpack\u001b[0m\u001b[1;33m(\u001b[0m\u001b[1;33m)\u001b[0m\u001b[1;33m\u001b[0m\u001b[0m\n\u001b[0m\u001b[0;32m      3\u001b[0m \u001b[0mjanela\u001b[0m\u001b[1;33m.\u001b[0m\u001b[0mtitle\u001b[0m\u001b[1;33m(\u001b[0m\u001b[1;34m'Janela principal'\u001b[0m\u001b[1;33m)\u001b[0m\u001b[1;33m\u001b[0m\u001b[0m\n\u001b[0;32m      4\u001b[0m \u001b[0mjanela\u001b[0m\u001b[1;33m[\u001b[0m\u001b[1;34m'bg'\u001b[0m\u001b[1;33m]\u001b[0m\u001b[1;33m=\u001b[0m \u001b[1;34m'white'\u001b[0m\u001b[1;33m\u001b[0m\u001b[0m\n\u001b[0;32m      5\u001b[0m \u001b[0mjanela\u001b[0m\u001b[1;33m.\u001b[0m\u001b[0mgeometry\u001b[0m\u001b[1;33m(\u001b[0m\u001b[1;34m'400x400+600+200'\u001b[0m\u001b[1;33m)\u001b[0m\u001b[1;33m\u001b[0m\u001b[0m\n",
      "\u001b[1;31mNameError\u001b[0m: name 'Label' is not defined"
     ]
    }
   ],
   "source": [
    "janela = tk.Tk()\n",
    "Label(janela,text='Fabricio').pack()\n",
    "janela.title('Janela principal')\n",
    "janela['bg']= 'white'\n",
    "janela.geometry('400x400+600+200')\n",
    "def bt_click():\n",
    "    print('bt_click')\n",
    "Label['text']='funcionou'    \n",
    "bt=Button(janela,width=20,text='CLICK HERE!', command=bt_click)\n",
    "bt.place(x=250,y=20)\n",
    "janela.mainloop()\n"
   ]
  },
  {
   "cell_type": "code",
   "execution_count": 21,
   "metadata": {},
   "outputs": [],
   "source": [
    "from tkinter import *"
   ]
  },
  {
   "cell_type": "code",
   "execution_count": 35,
   "metadata": {},
   "outputs": [
    {
     "name": "stdout",
     "output_type": "stream",
     "text": [
      "BTCLICK\n"
     ]
    }
   ],
   "source": [
    "janela = tkinter.Tk()\n",
    "janela.title('Título')\n",
    "janela['bg']='white'\n",
    "janela.geometry('400x400+600+200')\n",
    "lb = Label(janela,text='FALA COMIGO')\n",
    "lb.place(x=150,y=100)\n",
    "def bt_click():\n",
    "    print('BTCLICK')\n",
    "    lb['text']='QUER TOMAR UMA CERVEJA?'\n",
    "bt = Button(janela,width=30,text='CLICA AQUI!',command=bt_click)\n",
    "bt.place(x=100,y=200)\n",
    "\n",
    "janela.mainloop()\n"
   ]
  },
  {
   "cell_type": "code",
   "execution_count": 44,
   "metadata": {},
   "outputs": [
    {
     "name": "stdout",
     "output_type": "stream",
     "text": [
      "ESCREVIII\n"
     ]
    }
   ],
   "source": [
    "#Função entry\n",
    "janela = tkinter.Tk()\n",
    "janela.title('Função entry')\n",
    "janela.geometry('600x300+200+200')\n",
    "lb = Label(janela,text='Fala ai')\n",
    "lb.place(x=150,y=150)\n",
    "def bt_click():\n",
    "    print(ed.get())\n",
    "    lb['text']= ed.get()\n",
    "ed = Entry(janela)\n",
    "ed.place(x=300,y=200)\n",
    "bt = Button(janela,width=30,text='Clica Aqui!',command=bt_click)\n",
    "bt.place(x=150,y=250)\n",
    "janela.mainloop()"
   ]
  },
  {
   "cell_type": "code",
   "execution_count": null,
   "metadata": {},
   "outputs": [
    {
     "name": "stdout",
     "output_type": "stream",
     "text": [
      "<function soma at 0x00000000048EEB70>\n",
      "<function subtração at 0x000000000543EE18>\n",
      "<function subtração at 0x000000000543EE18>\n",
      "<function soma at 0x00000000048EEB70>\n",
      "<function soma at 0x00000000048EEB70>\n",
      "<function subtração at 0x000000000543EE18>\n",
      "<function soma at 0x00000000048EEB70>\n",
      "<function subtração at 0x000000000543EE18>\n"
     ]
    }
   ],
   "source": [
    "#Entrada e Processamento de Dados\n",
    "from tkinter import *\n",
    "janela = tkinter.Tk()\n",
    "janela.title('Entrada e processamento de Dados')\n",
    "janela.geometry('600x500+300+200')\n",
    "lb = Label(janela,text='CALCULAR!')\n",
    "lb.place(x=100,y=150)\n",
    "def soma():\n",
    "    print(soma)\n",
    "    lb['text'] = int(ed1.get())+ int(ed2.get())\n",
    "def subtração():\n",
    "    print(subtração)\n",
    "    lb['text'] = int(ed1.get()) - int(ed2.get())\n",
    "ed1=Entry(janela)\n",
    "ed1.place(x=100,y=250)\n",
    "ed2=Entry(janela)\n",
    "ed2.place(x=250,y=250)\n",
    "bt1=Button(janela,width=30,text='SOMA',command=soma)\n",
    "bt1.place(x=150,y=300)\n",
    "bt2=Button(janela,width=30,text='SUBTRAÇÃO',command=subtração)\n",
    "bt2.place(x=150,y=350)\n",
    "janela.mainloop()"
   ]
  },
  {
   "cell_type": "code",
   "execution_count": null,
   "metadata": {},
   "outputs": [],
   "source": []
  }
 ],
 "metadata": {
  "kernelspec": {
   "display_name": "Python 3",
   "language": "python",
   "name": "python3"
  },
  "language_info": {
   "codemirror_mode": {
    "name": "ipython",
    "version": 3
   },
   "file_extension": ".py",
   "mimetype": "text/x-python",
   "name": "python",
   "nbconvert_exporter": "python",
   "pygments_lexer": "ipython3",
   "version": "3.5.6"
  }
 },
 "nbformat": 4,
 "nbformat_minor": 2
}
